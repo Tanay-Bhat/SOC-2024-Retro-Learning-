{
 "cells": [
  {
   "cell_type": "code",
   "execution_count": 40,
   "metadata": {},
   "outputs": [],
   "source": [
    "import numpy as np \n",
    "import gym \n",
    "import time \n",
    "import math \n",
    "import matplotlib.pyplot as plt "
   ]
  },
  {
   "cell_type": "code",
   "execution_count": 41,
   "metadata": {},
   "outputs": [
    {
     "name": "stdout",
     "output_type": "stream",
     "text": [
      "2\n"
     ]
    }
   ],
   "source": [
    "env = gym.make(\"CartPole-v1\")\n",
    "print(env.action_space.n)"
   ]
  },
  {
   "cell_type": "code",
   "execution_count": 42,
   "metadata": {},
   "outputs": [],
   "source": [
    "LEARNING_RATE = 0.1\n",
    "\n",
    "DISCOUNT = 0.95\n",
    "EPISODES = 60000\n",
    "total = 0\n",
    "total_reward = 0\n",
    "prior_reward = 0\n",
    "\n",
    "Observation = [30, 30, 50, 50]\n",
    "np_array_win_size = np.array([0.25, 0.25, 0.01, 0.1])\n",
    "\n",
    "epsilon = 1\n",
    "\n",
    "epsilon_decay_value = 0.99995"
   ]
  },
  {
   "cell_type": "markdown",
   "metadata": {},
   "source": [
    "The Q_table basically contains an approximation of the cart position, cart velocity, pole position, pole velocity, and 2 possible actions <br>\n",
    "Since pole position and velocity are more important, there are more values possible for them"
   ]
  },
  {
   "cell_type": "code",
   "execution_count": 43,
   "metadata": {},
   "outputs": [
    {
     "data": {
      "text/plain": [
       "(30, 30, 50, 50, 2)"
      ]
     },
     "execution_count": 43,
     "metadata": {},
     "output_type": "execute_result"
    }
   ],
   "source": [
    "q_table = np.random.uniform(low=0, high=1, size=(Observation + [env.action_space.n]))\n",
    "q_table.shape"
   ]
  },
  {
   "cell_type": "markdown",
   "metadata": {},
   "source": [
    "Range of valid positions : -4.8 to 4.8 <br>\n",
    "Range of valid velocities : -inf to inf <br>\n",
    "Range of valid angles : -0.418 to 0.418 <br>\n",
    "Range of valid angular velocities : -inf to inf <br>\n",
    "<br>\n",
    "However, episode terminates if position goes out of -2,4 to 2.4, or angle goes out of -0.2095 to 0.2095"
   ]
  },
  {
   "cell_type": "code",
   "execution_count": 44,
   "metadata": {},
   "outputs": [],
   "source": [
    "def discretize(state):\n",
    "    # Discretize the first value from [-4.8, 4.8] to [0, 29]\n",
    "    scaled_value1 = int(((state[0] + 4.8) / (4.8 + 4.8)) * 29)\n",
    "    \n",
    "    # Discretize the second value from [-inf, inf] to [0, 29]\n",
    "    scaled_value2 = int(((np.tanh(state[1]) + 1) / 2) * 29)\n",
    "    \n",
    "    # Discretize the third value from [-0.418, 0.418] to [0, 49]\n",
    "    scaled_value3 = int(((state[2] + 0.418) / (0.418 + 0.418)) * 49)\n",
    "    \n",
    "    # Discretize the fourth value from [-inf, inf] to [0, 49]\n",
    "    scaled_value4 = int(((np.tanh(state[3]) + 1) / 2) * 49)\n",
    "    \n",
    "    return tuple([scaled_value1, scaled_value2, scaled_value3, scaled_value4])"
   ]
  },
  {
   "cell_type": "code",
   "execution_count": 45,
   "metadata": {},
   "outputs": [
    {
     "name": "stdout",
     "output_type": "stream",
     "text": [
      "Episode: 0\n",
      "Time Average: 2.3834705352783203e-06\n",
      "Mean Reward: 0.028\n"
     ]
    },
    {
     "name": "stderr",
     "output_type": "stream",
     "text": [
      "/home/ssddevavrat/anaconda3/envs/ML_env/lib/python3.12/site-packages/gym/utils/passive_env_checker.py:233: DeprecationWarning: `np.bool8` is a deprecated alias for `np.bool_`.  (Deprecated NumPy 1.24)\n",
      "  if not isinstance(terminated, (bool, np.bool8)):\n",
      "/home/ssddevavrat/anaconda3/envs/ML_env/lib/python3.12/site-packages/gym/envs/classic_control/cartpole.py:211: UserWarning: \u001b[33mWARN: You are calling render method without specifying any render mode. You can specify the render_mode at initialization, e.g. gym(\"CartPole-v1\", render_mode=\"rgb_array\")\u001b[0m\n",
      "  gym.logger.warn(\n"
     ]
    },
    {
     "name": "stdout",
     "output_type": "stream",
     "text": [
      "Episode: 2000\n",
      "Time Average: 0.0015032672882080078\n",
      "Mean Reward: 44.317\n",
      "Episode: 4000\n",
      "Time Average: 0.001552144765853882\n",
      "Mean Reward: 45.18\n",
      "Episode: 6000\n",
      "Time Average: 0.001453418731689453\n",
      "Mean Reward: 44.529\n",
      "Episode: 8000\n",
      "Time Average: 0.001447343111038208\n",
      "Mean Reward: 44.971\n",
      "Episode: 10000\n",
      "Time Average: 0.0014135017395019531\n",
      "Mean Reward: 43.557\n",
      "Epsilon: 0.9512282354250458\n",
      "Episode: 12000\n",
      "Epsilon: 0.9048351558698463\n",
      "Time Average: 0.0014719338417053223\n",
      "Mean Reward: 45.362\n",
      "Epsilon: 0.8607047486686201\n",
      "Epsilon: 0.8394533480303666\n",
      "Episode: 14000\n",
      "Epsilon: 0.818726659298009\n",
      "Time Average: 0.0017218685150146484\n",
      "Mean Reward: 48.247\n",
      "Epsilon: 0.7787959154194878\n",
      "Epsilon: 0.7595669010105212\n",
      "Episode: 16000\n",
      "Epsilon: 0.7408126643807126\n",
      "Time Average: 0.0017523903846740723\n",
      "Mean Reward: 52.307\n",
      "Epsilon: 0.7225214829355084\n",
      "Epsilon: 0.7046819235193919\n",
      "Epsilon: 0.687282835269431\n",
      "Episode: 18000\n",
      "Epsilon: 0.6703133426452782\n",
      "Time Average: 0.0018931689262390136\n",
      "Mean Reward: 56.172\n",
      "Epsilon: 0.6537628386312633\n",
      "Epsilon: 0.6376209781063321\n",
      "Episode: 20000\n",
      "Time Average: 0.0020670883655548094\n",
      "Mean Reward: 62.16\n",
      "Epsilon: 0.5915475999948323\n",
      "Epsilon: 0.5769418771107269\n",
      "Epsilon: 0.5626967797130051\n",
      "Episode: 22000\n",
      "Time Average: 0.002453225374221802\n",
      "Mean Reward: 72.72\n",
      "Epsilon: 0.5352530648457575\n",
      "Epsilon: 0.5220372933033263\n",
      "Episode: 24000\n",
      "Time Average: 0.0028826980590820313\n",
      "Mean Reward: 83.335\n",
      "Epsilon: 0.484315790359524\n",
      "Epsilon: 0.47235769565598784\n",
      "Epsilon: 0.4606948546521764\n",
      "Episode: 26000\n",
      "Epsilon: 0.44931997732828616\n",
      "Time Average: 0.0033932743072509768\n",
      "Mean Reward: 101.182\n",
      "Epsilon: 0.43822595366018774\n",
      "Episode: 28000\n",
      "Time Average: 0.003721996784210205\n",
      "Mean Reward: 114.827\n",
      "Epsilon: 0.396522249086328\n",
      "Epsilon: 0.3867318381581326\n",
      "Episode: 30000\n",
      "Time Average: 0.004740501642227173\n",
      "Mean Reward: 144.935\n",
      "Epsilon: 0.3499285630596461\n",
      "Epsilon: 0.3412885827413639\n",
      "Episode: 32000\n",
      "Time Average: 0.005927814245223999\n",
      "Mean Reward: 171.571\n",
      "Epsilon: 0.32464333633178233\n",
      "Episode: 34000\n",
      "Epsilon: 0.3011851759202241\n",
      "Time Average: 0.006309497594833374\n",
      "Mean Reward: 190.172\n",
      "Epsilon: 0.27942206120438906\n",
      "Episode: 36000\n",
      "Epsilon: 0.27252293559946306\n",
      "Time Average: 0.0073981242179870605\n",
      "Mean Reward: 221.4\n",
      "Epsilon: 0.2657941542182801\n",
      "Epsilon: 0.25923151114313064\n",
      "Episode: 38000\n",
      "Epsilon: 0.24658833291124824\n",
      "Time Average: 0.008957240343093873\n",
      "Mean Reward: 251.214\n",
      "Epsilon: 0.24049989496139146\n",
      "Epsilon: 0.22877029070403326\n",
      "Episode: 40000\n",
      "Time Average: 0.008491423845291137\n",
      "Mean Reward: 257.944\n",
      "Epsilon: 0.2176127599440723\n",
      "Epsilon: 0.206999401647574\n",
      "Episode: 42000\n",
      "Epsilon: 0.20188844202629158\n",
      "Time Average: 0.010397435665130616\n",
      "Mean Reward: 327.094\n",
      "Epsilon: 0.19690367556326213\n",
      "Epsilon: 0.18730033585474753\n",
      "Episode: 44000\n",
      "Time Average: 0.011282461643218994\n",
      "Mean Reward: 337.378\n",
      "Epsilon: 0.17816536796962992\n",
      "Epsilon: 0.17376634075333858\n",
      "Episode: 46000\n",
      "Time Average: 0.01294946813583374\n",
      "Mean Reward: 386.762\n",
      "Epsilon: 0.15334777825975254\n",
      "Episode: 48000\n",
      "Epsilon: 0.1495615146451681\n",
      "Time Average: 0.014776642799377442\n",
      "Mean Reward: 391.078\n",
      "Episode: 50000\n",
      "Epsilon: 0.13532851641609098\n",
      "Time Average: 0.01417288112640381\n",
      "Mean Reward: 420.309\n",
      "Epsilon: 0.13198716094595161\n",
      "Episode: 52000\n",
      "Epsilon: 0.12244999924498873\n",
      "Time Average: 0.014396036386489869\n",
      "Mean Reward: 454.311\n",
      "Epsilon: 0.11647789670960881\n",
      "Epsilon: 0.11360197618947\n",
      "Episode: 54000\n",
      "Time Average: 0.014275355339050293\n",
      "Mean Reward: 447.559\n",
      "Epsilon: 0.10806140735150761\n",
      "Epsilon: 0.10539329582463075\n",
      "Episode: 56000\n",
      "Epsilon: 0.10025307881289336\n",
      "Time Average: 0.01754340481758118\n",
      "Mean Reward: 548.338\n",
      "Epsilon: 0.09300896645525675\n",
      "Episode: 58000\n",
      "Time Average: 0.019153268337249757\n",
      "Mean Reward: 610.676\n",
      "Epsilon: 0.08847275503994115\n",
      "Episode: 60000\n",
      "Epsilon: 0.08207986830082019\n",
      "Time Average: 0.0185968279838562\n",
      "Mean Reward: 597.851\n"
     ]
    },
    {
     "data": {
      "image/png": "[encoded data removed]",
      "text/plain": [
       "<Figure size 1000x500 with 2 Axes>"
      ]
     },
     "metadata": {},
     "output_type": "display_data"
    }
   ],
   "source": [
    "mean_values = []\n",
    "mean_reward_values = []\n",
    "\n",
    "for episode in range(EPISODES + 1):\n",
    "    t0 = time.time() \n",
    "    discrete_state = discretize(env.reset()[0])\n",
    "    done = False\n",
    "    episode_reward = 0 \n",
    "\n",
    "    if episode % 2000 == 0: \n",
    "        print(\"Episode: \" + str(episode))\n",
    "\n",
    "    while not done: \n",
    "        if np.random.random() > epsilon:\n",
    "            action = np.argmax(q_table[discrete_state]) \n",
    "        else:\n",
    "            action = np.random.randint(0, env.action_space.n) \n",
    "\n",
    "        new_state, reward, done, _, _ = env.step(action) \n",
    "        episode_reward += reward \n",
    "        new_discrete_state = discretize(new_state)\n",
    "        \n",
    "        # if episode % 2000 == 0: #render\n",
    "        #     env.render()\n",
    "\n",
    "        if not done: #update q-table\n",
    "            max_future_q = np.max(q_table[new_discrete_state])\n",
    "            current_q = q_table[discrete_state + (action,)]\n",
    "            new_q = (1 - LEARNING_RATE) * current_q + LEARNING_RATE * (reward + DISCOUNT * max_future_q)\n",
    "            q_table[discrete_state + (action,)] = new_q\n",
    "\n",
    "        discrete_state = new_discrete_state\n",
    "\n",
    "    if epsilon > 0.05: #epsilon modification\n",
    "        if episode_reward > prior_reward and episode > 10000:\n",
    "            epsilon = math.pow(epsilon_decay_value, episode - 10000)\n",
    "            if episode % 500 == 0:\n",
    "                print(\"Epsilon: \" + str(epsilon))\n",
    "\n",
    "    t1 = time.time() \n",
    "    episode_total = t1 - t0 #episode total time\n",
    "    total = total + episode_total\n",
    "\n",
    "    total_reward += episode_reward #episode total reward\n",
    "    prior_reward = episode_reward\n",
    "\n",
    "    if episode % 2000 == 0: \n",
    "        mean = total / 1000\n",
    "        mean_values.append(mean)\n",
    "        print(\"Time Average: \" + str(mean))\n",
    "        total = 0        \n",
    "\n",
    "        mean_reward = total_reward / 1000\n",
    "        mean_reward_values.append(mean_reward)\n",
    "        print(\"Mean Reward: \" + str(mean_reward))\n",
    "        total_reward = 0\n",
    "\n",
    "plt.figure(figsize=(10, 5))\n",
    "\n",
    "plt.subplot(1, 2, 1)\n",
    "plt.plot(mean_values)\n",
    "plt.title('Mean Time per 2000 Episodes')\n",
    "plt.xlabel('Episode')\n",
    "plt.ylabel('Mean Time')\n",
    "\n",
    "plt.subplot(1, 2, 2)\n",
    "plt.plot(mean_reward_values)\n",
    "plt.title('Mean Reward per 2000 Episodes')\n",
    "plt.xlabel('Episode')\n",
    "plt.ylabel('Mean Reward')\n",
    "\n",
    "plt.tight_layout()\n",
    "plt.show()\n",
    "\n",
    "env.close()"
   ]
  },
  {
   "cell_type": "markdown",
   "metadata": {},
   "source": [
    "Try playing around with different values of parameters, and changing the policy for choosing random actions / updating epsilon and see how much you can imporve the model."
   ]
  }
 ],
 "metadata": {
  "kernelspec": {
   "display_name": "ML_env",
   "language": "python",
   "name": "python3"
  },
  "language_info": {
   "codemirror_mode": {
    "name": "ipython",
    "version": 3
   },
   "file_extension": ".py",
   "mimetype": "text/x-python",
   "name": "python",
   "nbconvert_exporter": "python",
   "pygments_lexer": "ipython3",
   "version": "3.12.2"
  }
 },
 "nbformat": 4,
 "nbformat_minor": 2
}
